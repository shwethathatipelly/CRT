{
  "nbformat": 4,
  "nbformat_minor": 0,
  "metadata": {
    "colab": {
      "name": "Day-6(04/12/2019).ipynb",
      "provenance": [],
      "collapsed_sections": [],
      "include_colab_link": true
    },
    "kernelspec": {
      "name": "python3",
      "display_name": "Python 3"
    }
  },
  "cells": [
    {
      "cell_type": "markdown",
      "metadata": {
        "id": "view-in-github",
        "colab_type": "text"
      },
      "source": [
        "<a href=\"https://colab.research.google.com/github/shwethathatipelly/CRT/blob/master/Day_6(04_12_2019).ipynb\" target=\"_parent\"><img src=\"https://colab.research.google.com/assets/colab-badge.svg\" alt=\"Open In Colab\"/></a>"
      ]
    },
    {
      "cell_type": "code",
      "metadata": {
        "id": "xHP4xFzd-sar",
        "colab_type": "code",
        "outputId": "c6f7b1fa-dd9f-4357-b4bd-2c8075ad309e",
        "colab": {
          "base_uri": "https://localhost:8080/",
          "height": 51
        }
      },
      "source": [
        "# Accept a no. and check is the no. is divisble by 3 and 5 or not\n",
        "x = int(input(\"enter any value\"))\n",
        "if( x%3 == 0 and x%5 == 0): \n",
        "  print(\"number is divisble by 3 and 5\")\n",
        "else:\n",
        "  print(\"number is not divisble by 3 and 5\")"
      ],
      "execution_count": 0,
      "outputs": [
        {
          "output_type": "stream",
          "text": [
            "enter any value39\n",
            "number is not divisble by 3 and 5\n"
          ],
          "name": "stdout"
        }
      ]
    },
    {
      "cell_type": "code",
      "metadata": {
        "id": "-oWBr8oNCF41",
        "colab_type": "code",
        "outputId": "dc1502e8-af48-41b1-d252-c87db1f6a293",
        "colab": {
          "base_uri": "https://localhost:8080/",
          "height": 51
        }
      },
      "source": [
        "# Accept a no. and check the given no. is positive or negative or zero\n",
        "x=int(input(\"enter any number\"))\n",
        "if (x>0):\n",
        "  print(\"The number is positive\")\n",
        "elif (x==0):  \n",
        "  print(\"The number is zero\")\n",
        "else:\n",
        "  print(\"The number is negative\")"
      ],
      "execution_count": 0,
      "outputs": [
        {
          "output_type": "stream",
          "text": [
            "enter any number0\n",
            "The number is zero\n"
          ],
          "name": "stdout"
        }
      ]
    },
    {
      "cell_type": "code",
      "metadata": {
        "id": "kAO2gniREVDm",
        "colab_type": "code",
        "outputId": "36c47092-6948-488d-8e46-cfb7bc7771d0",
        "colab": {
          "base_uri": "https://localhost:8080/",
          "height": 51
        }
      },
      "source": [
        "# Accept the age of a person and decide the person is eligible for voting or bot\n",
        "x = int(input(\"enter the age\"))\n",
        "if x>=18 :\n",
        "  print(\"The person is eligible for voting\")\n",
        "else:\n",
        "  print(\"The person is not eligible for voting\")"
      ],
      "execution_count": 0,
      "outputs": [
        {
          "output_type": "stream",
          "text": [
            "enter the age67\n",
            "The person is eligible for voting\n"
          ],
          "name": "stdout"
        }
      ]
    },
    {
      "cell_type": "markdown",
      "metadata": {
        "id": "R2yQFB-MGNn4",
        "colab_type": "text"
      },
      "source": [
        "### \n",
        " Accept the 3 subject marks of a student if the student gets min. 30 marks in all subjects ,then go for finding avg,or print fail.\n",
        " if avg is >75 print A ,65<avg<75  print B, 45<avg<65 print C, 30<avg<45 print D"
      ]
    },
    {
      "cell_type": "code",
      "metadata": {
        "id": "j0urhYMhHPKH",
        "colab_type": "code",
        "outputId": "6f404ed2-5203-4f9f-a0a1-9b04402d3037",
        "colab": {
          "base_uri": "https://localhost:8080/",
          "height": 102
        }
      },
      "source": [
        "x = int(input(\"enter sub-1 marks\"))\n",
        "y = int(input(\"enter sub-2 marks\"))\n",
        "z = int(input(\"enter sub-3 marks\"))\n",
        "avg = 0\n",
        "if x >= 30 and y >= 30 and z >=30:\n",
        "  avg = avg+(x+y+z)/3\n",
        "  print(avg)\n",
        "if avg>75:\n",
        "  print(\"Grade A\")\n",
        "elif 65<avg <= 75:\n",
        "  print(\"Grade B\")\n",
        "elif 45<avg <= 65:\n",
        "  print(\"Grade C\")\n",
        "elif 30<avg <= 45:\n",
        "  print(\"Grade D\")\n",
        "else :\n",
        "  print(\"fail\")    "
      ],
      "execution_count": 0,
      "outputs": [
        {
          "output_type": "stream",
          "text": [
            "enter sub-1 marks90\n",
            "enter sub-2 marks100\n",
            "enter sub-3 marks100\n",
            "96.66666666666667\n",
            "Grade A\n"
          ],
          "name": "stdout"
        }
      ]
    },
    {
      "cell_type": "markdown",
      "metadata": {
        "id": "6iFfoGddHxzu",
        "colab_type": "text"
      },
      "source": [
        "##Loops\n",
        "1. While loop:(while condition:   statements)\n",
        "2. For loop:()"
      ]
    },
    {
      "cell_type": "code",
      "metadata": {
        "id": "XNRnXobkIQSP",
        "colab_type": "code",
        "outputId": "07affb6a-5d5d-44d2-9d9e-37047092cc46",
        "colab": {
          "base_uri": "https://localhost:8080/",
          "height": 51
        }
      },
      "source": [
        "# while loop\n",
        "# print numbers from 1 to N\n",
        "N = int(input(\"enter any number\")) \n",
        "i = 1\n",
        "while i <= N:\n",
        "  print(i, end=\" \")\n",
        "  i = i + 1"
      ],
      "execution_count": 0,
      "outputs": [
        {
          "output_type": "stream",
          "text": [
            "enter any number7\n",
            "1 2 3 4 5 6 7 "
          ],
          "name": "stdout"
        }
      ]
    },
    {
      "cell_type": "code",
      "metadata": {
        "id": "LMLP-alxJLW-",
        "colab_type": "code",
        "outputId": "a0f78744-f717-433f-914e-d895639622f0",
        "colab": {
          "base_uri": "https://localhost:8080/",
          "height": 51
        }
      },
      "source": [
        "# even natural no. from 1 to N\n",
        "N = int(input(\"enter any number\"))\n",
        "i = 1\n",
        "while i <= N:\n",
        "  if i%2 == 0:\n",
        "    print(i,end=\" \")\n",
        "  i=i+1"
      ],
      "execution_count": 0,
      "outputs": [
        {
          "output_type": "stream",
          "text": [
            "enter any number7\n",
            "2 4 6 "
          ],
          "name": "stdout"
        }
      ]
    },
    {
      "cell_type": "code",
      "metadata": {
        "id": "rGl215VIKOBM",
        "colab_type": "code",
        "outputId": "93403d7e-db12-40bf-d6f2-da1de848c793",
        "colab": {
          "base_uri": "https://localhost:8080/",
          "height": 51
        }
      },
      "source": [
        "# print sum of the even no. in the given range\n",
        "N = int(input(\"enter any number\"))\n",
        "i = 1\n",
        "sum = 0\n",
        "while i <= N:\n",
        "  if i%2 == 0:\n",
        "    sum = sum + i\n",
        "  i = i+1  \n",
        "print(sum)"
      ],
      "execution_count": 0,
      "outputs": [
        {
          "output_type": "stream",
          "text": [
            "enter any number7\n",
            "12\n"
          ],
          "name": "stdout"
        }
      ]
    },
    {
      "cell_type": "code",
      "metadata": {
        "id": "mFCKcC0_MYmh",
        "colab_type": "code",
        "outputId": "99ab83ab-a5a3-40e3-a2f7-7c2ac3233d3d",
        "colab": {
          "base_uri": "https://localhost:8080/",
          "height": 51
        }
      },
      "source": [
        "# Extracting the digits from given no.\n",
        "# input ----->546\n",
        "# output ----->6 4 5\n",
        "N = int(input(\"enter any number\"))\n",
        "while N!=0:\n",
        "  print(N%10, end=\" \")\n",
        "  N = N//10  "
      ],
      "execution_count": 0,
      "outputs": [
        {
          "output_type": "stream",
          "text": [
            "enter any number145\n",
            "5 4 1 "
          ],
          "name": "stdout"
        }
      ]
    },
    {
      "cell_type": "markdown",
      "metadata": {
        "id": "g_rkiJ4eRNxK",
        "colab_type": "text"
      },
      "source": [
        "## Questions\n",
        "1. given no. is palindrome or not\n",
        "2. print the factors of given no.\n",
        "3. amstrong or not(ex: 145!=1^3+4^3+5^3 so this 145 no. is not an amstrong no.)\n",
        "4. "
      ]
    },
    {
      "cell_type": "code",
      "metadata": {
        "id": "RDvfsz1lR3kz",
        "colab_type": "code",
        "outputId": "3c821e42-cbdd-415e-b140-cc70a97fd62f",
        "colab": {
          "base_uri": "https://localhost:8080/",
          "height": 51
        }
      },
      "source": [
        "# Palindrome\n",
        "n = int(input(\"enter any number\"))\n",
        "rev = 0\n",
        "temp = n\n",
        "while n!=0:\n",
        "  r = n%10\n",
        "  rev = rev*10+r\n",
        "  n = n//10\n",
        "if rev == temp:\n",
        "  print(\"palindrome\")\n",
        "else:\n",
        "  print(\"not palindrome\")    "
      ],
      "execution_count": 0,
      "outputs": [
        {
          "output_type": "stream",
          "text": [
            "enter any number46564\n",
            "palindrome\n"
          ],
          "name": "stdout"
        }
      ]
    },
    {
      "cell_type": "code",
      "metadata": {
        "id": "tSHv-qscb056",
        "colab_type": "code",
        "outputId": "698d3c6f-5b37-4aeb-c787-d7868c5059f2",
        "colab": {
          "base_uri": "https://localhost:8080/",
          "height": 51
        }
      },
      "source": [
        "# print factors of given no.\n",
        "n = int(input(\"enter a value\"))\n",
        "i = 1\n",
        "while i <= n:\n",
        "  if n%i == 0:\n",
        "    print(i, end=\" \")\n",
        "  i=i+1"
      ],
      "execution_count": 0,
      "outputs": [
        {
          "output_type": "stream",
          "text": [
            "enter a value6\n",
            "1 2 3 6 "
          ],
          "name": "stdout"
        }
      ]
    },
    {
      "cell_type": "code",
      "metadata": {
        "id": "EpXo42_efqhZ",
        "colab_type": "code",
        "outputId": "2a9a1701-96fa-4a2e-90a2-052c44da3a66",
        "colab": {
          "base_uri": "https://localhost:8080/",
          "height": 51
        }
      },
      "source": [
        "# amstrong no.\n",
        "n = int(input(\"enter a value\"))\n",
        "sum = 0\n",
        "temp = n\n",
        "while n!=0:\n",
        "  i=n%10\n",
        "  sum = sum+(i**3)\n",
        "  n=n//10\n",
        "if sum == temp:\n",
        "  print(\"amstrong\")\n",
        "else :\n",
        "  print(\"not amstrong\")   "
      ],
      "execution_count": 0,
      "outputs": [
        {
          "output_type": "stream",
          "text": [
            "enter a value153\n",
            "amstrong\n"
          ],
          "name": "stdout"
        }
      ]
    },
    {
      "cell_type": "code",
      "metadata": {
        "id": "3X_KuArZTIhP",
        "colab_type": "code",
        "colab": {}
      },
      "source": [
        "# For loop\n",
        "# print 1 to n numbers\n",
        "n = int(input(\"enter any value\"))\n",
        "i = 1\n",
        "for i in range(1,n+1,2): # printing all odd no. for given value(1,n+1,2-- increment)\n",
        "  print(i, end=\" \")"
      ],
      "execution_count": 0,
      "outputs": []
    },
    {
      "cell_type": "code",
      "metadata": {
        "id": "CSYF4KcyV258",
        "colab_type": "code",
        "outputId": "5badb34c-68a9-41ea-c4a9-7e9fa703b748",
        "colab": {
          "base_uri": "https://localhost:8080/",
          "height": 51
        }
      },
      "source": [
        "#for loop\n",
        "#even no.\n",
        "n = int(input(\"enter any value\"))\n",
        "for i in range(0,n+1,2):\n",
        "  print(i, end=\" \")"
      ],
      "execution_count": 0,
      "outputs": [
        {
          "output_type": "stream",
          "text": [
            "enter any value7\n",
            "0 2 4 6 "
          ],
          "name": "stdout"
        }
      ]
    },
    {
      "cell_type": "code",
      "metadata": {
        "id": "FcuqUaezXMxd",
        "colab_type": "code",
        "outputId": "89178367-6884-4e34-87f2-81de94ea503e",
        "colab": {
          "base_uri": "https://localhost:8080/",
          "height": 51
        }
      },
      "source": [
        "# sum of even no.s\n",
        "n = int(input(\"enter any value\"))\n",
        "sum = 0\n",
        "for i in range(0,n+1,2):\n",
        "  sum = sum+i\n",
        "print(sum)  "
      ],
      "execution_count": 0,
      "outputs": [
        {
          "output_type": "stream",
          "text": [
            "enter any value7\n",
            "12\n"
          ],
          "name": "stdout"
        }
      ]
    },
    {
      "cell_type": "markdown",
      "metadata": {
        "id": "qaaQHUtHYvDY",
        "colab_type": "text"
      },
      "source": [
        "## EEtarable Objects\n"
      ]
    },
    {
      "cell_type": "code",
      "metadata": {
        "id": "YpaUF5DIZDxx",
        "colab_type": "code",
        "outputId": "33298833-3421-4b6c-a32b-b826f91ca65e",
        "colab": {
          "base_uri": "https://localhost:8080/",
          "height": 119
        }
      },
      "source": [
        "# printing string using for loop\n",
        "n = input(\"enter your name\")\n",
        "for i in n:\n",
        "  print(i)"
      ],
      "execution_count": 0,
      "outputs": [
        {
          "output_type": "stream",
          "text": [
            "enter your namepuppy\n",
            "p\n",
            "u\n",
            "p\n",
            "p\n",
            "y\n"
          ],
          "name": "stdout"
        }
      ]
    },
    {
      "cell_type": "code",
      "metadata": {
        "id": "P1kwWsY5ZkJP",
        "colab_type": "code",
        "outputId": "8fd312c9-c81b-47a5-a04b-32c6cc356e01",
        "colab": {
          "base_uri": "https://localhost:8080/",
          "height": 119
        }
      },
      "source": [
        "# printing string using while loop\n",
        "n = input(\"enter your name\")\n",
        "length = len(n)\n",
        "i = 0\n",
        "while i < length:\n",
        "  print(n[i])\n",
        "  i+=1"
      ],
      "execution_count": 0,
      "outputs": [
        {
          "output_type": "stream",
          "text": [
            "enter your namepuppy\n",
            "p\n",
            "u\n",
            "p\n",
            "p\n",
            "y\n"
          ],
          "name": "stdout"
        }
      ]
    },
    {
      "cell_type": "markdown",
      "metadata": {
        "id": "kkcqvTsBbVJb",
        "colab_type": "text"
      },
      "source": [
        "## Funtions\n",
        "def name (arg):\n",
        "   statements\n",
        "   return"
      ]
    },
    {
      "cell_type": "code",
      "metadata": {
        "id": "xXTiNUiTdTjt",
        "colab_type": "code",
        "outputId": "99012ad9-2673-48d8-e572-9f5e29c148d6",
        "colab": {
          "base_uri": "https://localhost:8080/",
          "height": 34
        }
      },
      "source": [
        "# Function\n",
        "def add(x,y):\n",
        "  return x+y\n",
        "add(10,20)  "
      ],
      "execution_count": 0,
      "outputs": [
        {
          "output_type": "execute_result",
          "data": {
            "text/plain": [
              "30"
            ]
          },
          "metadata": {
            "tags": []
          },
          "execution_count": 45
        }
      ]
    },
    {
      "cell_type": "code",
      "metadata": {
        "id": "uw4RASsufFdw",
        "colab_type": "code",
        "outputId": "94fb0c0c-7683-48fc-8c64-e8e7df176f1f",
        "colab": {
          "base_uri": "https://localhost:8080/",
          "height": 34
        }
      },
      "source": [
        "a='10'\n",
        "print(type (a))"
      ],
      "execution_count": 0,
      "outputs": [
        {
          "output_type": "stream",
          "text": [
            "<class 'str'>\n"
          ],
          "name": "stdout"
        }
      ]
    }
  ]
}