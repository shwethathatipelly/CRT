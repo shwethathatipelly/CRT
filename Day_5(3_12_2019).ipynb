{
  "nbformat": 4,
  "nbformat_minor": 0,
  "metadata": {
    "colab": {
      "name": "Day-5(3/12/2019).ipynb",
      "provenance": [],
      "include_colab_link": true
    },
    "kernelspec": {
      "name": "python3",
      "display_name": "Python 3"
    }
  },
  "cells": [
    {
      "cell_type": "markdown",
      "metadata": {
        "id": "view-in-github",
        "colab_type": "text"
      },
      "source": [
        "<a href=\"https://colab.research.google.com/github/shwethathatipelly/CRT/blob/master/Day_5(3_12_2019).ipynb\" target=\"_parent\"><img src=\"https://colab.research.google.com/assets/colab-badge.svg\" alt=\"Open In Colab\"/></a>"
      ]
    },
    {
      "cell_type": "markdown",
      "metadata": {
        "id": "BzQYezjf8nBH",
        "colab_type": "text"
      },
      "source": [
        "# phyton programming\n",
        "## phyton programming\n",
        "### phyton programming\n",
        "#### phyton programming\n",
        "##### phyton programming\n",
        "###### phyton programming"
      ]
    },
    {
      "cell_type": "markdown",
      "metadata": {
        "id": "LV2ok8yC96x7",
        "colab_type": "text"
      },
      "source": [
        "1.   phyton basic\n",
        "2.   phyton advance\n",
        "3.   phyton program"
      ]
    },
    {
      "cell_type": "markdown",
      "metadata": {
        "id": "vOvoD8UN-0gC",
        "colab_type": "text"
      },
      "source": [
        "![image](https://healthshots.hindustantimes.com/wp-content/uploads/2019/07/bOvf94dPRxWu0u3QsPjF_tree.jpg)(greenery)"
      ]
    },
    {
      "cell_type": "markdown",
      "metadata": {
        "id": "rAztE3ON_7yF",
        "colab_type": "text"
      },
      "source": [
        "[google](https://www.google.com/search?rlz=1C1CHBD_enIN854IN854&sxsrf=ACYBGNQccNUGtQzVpU3LTiALmeAFHtybqw%3A1575347086802&ei=juPlXffBMIqb9QPcsp3YAQ&q=google&oq=google&gs_l=psy-ab.3..35i39j0i131i20i263j0i67l4j0j0i131j0j0i131.5342.5899..6118...0.2..0.96.188.2......0....1..gws-wiz.......0i71.sF8WH7lGfKY&ved=0ahUKEwj3wIac0ZjmAhWKTX0KHVxZBxsQ4dUDCAs&uact=5)"
      ]
    },
    {
      "cell_type": "markdown",
      "metadata": {
        "id": "0gJ8cejwA8tD",
        "colab_type": "text"
      },
      "source": [
        ""
      ]
    },
    {
      "cell_type": "code",
      "metadata": {
        "id": "-ZF4zU9M20Wh",
        "colab_type": "code",
        "outputId": "d3c802f2-f01e-4b11-cb6f-72a53cdea7a7",
        "colab": {
          "base_uri": "https://localhost:8080/",
          "height": 34
        }
      },
      "source": [
        "print(\"welcome to phyton programming\")\n"
      ],
      "execution_count": 0,
      "outputs": [
        {
          "output_type": "stream",
          "text": [
            "welcome to phyton programming\n"
          ],
          "name": "stdout"
        }
      ]
    },
    {
      "cell_type": "code",
      "metadata": {
        "id": "bOrNhda55_dR",
        "colab_type": "code",
        "outputId": "0a3253a5-4fa8-4eb0-c2ea-deb29eee6357",
        "colab": {
          "base_uri": "https://localhost:8080/",
          "height": 51
        }
      },
      "source": [
        "print(\"welcome to c programming\")\n",
        "print(\"welcome to phyton programming\")"
      ],
      "execution_count": 0,
      "outputs": [
        {
          "output_type": "stream",
          "text": [
            "welcome to c programming\n",
            "welcome to phyton programming\n"
          ],
          "name": "stdout"
        }
      ]
    },
    {
      "cell_type": "code",
      "metadata": {
        "id": "amY46W548iAz",
        "colab_type": "code",
        "outputId": "004734de-cb87-4822-98a5-1b7ac2822b9a",
        "colab": {
          "base_uri": "https://localhost:8080/",
          "height": 34
        }
      },
      "source": [
        "x=221710405043\n",
        "print(x)"
      ],
      "execution_count": 0,
      "outputs": [
        {
          "output_type": "stream",
          "text": [
            "221710405043\n"
          ],
          "name": "stdout"
        }
      ]
    },
    {
      "cell_type": "code",
      "metadata": {
        "id": "1tdGWuQuDeGY",
        "colab_type": "code",
        "outputId": "1e8bbcdb-b9d6-4f52-fbb7-075119ec9315",
        "colab": {
          "base_uri": "https://localhost:8080/",
          "height": 34
        }
      },
      "source": [
        "print(\"Hello world\")"
      ],
      "execution_count": 0,
      "outputs": [
        {
          "output_type": "stream",
          "text": [
            "Hello world\n"
          ],
          "name": "stdout"
        }
      ]
    },
    {
      "cell_type": "code",
      "metadata": {
        "id": "E5b-Ybk8Ds3r",
        "colab_type": "code",
        "outputId": "b746b71d-50aa-40fa-866e-5d2cbeccca0c",
        "colab": {
          "base_uri": "https://localhost:8080/",
          "height": 51
        }
      },
      "source": [
        "x = 6\n",
        "y = 8\n",
        "print(x+y)\n",
        "print(x-y)"
      ],
      "execution_count": 0,
      "outputs": [
        {
          "output_type": "stream",
          "text": [
            "14\n",
            "-2\n"
          ],
          "name": "stdout"
        }
      ]
    },
    {
      "cell_type": "code",
      "metadata": {
        "id": "nE2DKAqzGrnl",
        "colab_type": "code",
        "outputId": "875cc065-36be-4f87-b46a-fe33ba016dd8",
        "colab": {
          "base_uri": "https://localhost:8080/",
          "height": 85
        }
      },
      "source": [
        "x = int(input(\"enter x value\"))\n",
        "y = int(input(\"enter y value\"))\n",
        "print(x+y)\n",
        "print(x-y)"
      ],
      "execution_count": 0,
      "outputs": [
        {
          "output_type": "stream",
          "text": [
            "enter x value43\n",
            "enter y value34\n",
            "77\n",
            "9\n"
          ],
          "name": "stdout"
        }
      ]
    },
    {
      "cell_type": "code",
      "metadata": {
        "id": "mw76NSqQIKZ3",
        "colab_type": "code",
        "outputId": "38b57854-e574-4fd8-818d-fc0ae3debc2a",
        "colab": {
          "base_uri": "https://localhost:8080/",
          "height": 68
        }
      },
      "source": [
        "name=input(\"enter name\")\n",
        "age=int(input(\"enter age\"))\n",
        "print(\"my name is \",name,\"and my age is\",age)"
      ],
      "execution_count": 0,
      "outputs": [
        {
          "output_type": "stream",
          "text": [
            "enter nameshwetha\n",
            "enter age19\n",
            "my name is  shwetha and my age is 19\n"
          ],
          "name": "stdout"
        }
      ]
    },
    {
      "cell_type": "code",
      "metadata": {
        "id": "ahzTgaGWJtNH",
        "colab_type": "code",
        "outputId": "0d893a65-64ab-48fb-c14a-b09ade9389f2",
        "colab": {
          "base_uri": "https://localhost:8080/",
          "height": 68
        }
      },
      "source": [
        "name = input(\"enter name\")\n",
        "age = int(input(\"enter age\"))\n",
        "print(\"my name is\",name,end=' ')\n",
        "print(\"my age is\",age,)"
      ],
      "execution_count": 0,
      "outputs": [
        {
          "output_type": "stream",
          "text": [
            "enter nameshwetha\n",
            "enter age19\n",
            "my name is shwetha my age is 19\n"
          ],
          "name": "stdout"
        }
      ]
    },
    {
      "cell_type": "code",
      "metadata": {
        "id": "CrDD_yskM_IX",
        "colab_type": "code",
        "outputId": "a5c3d4c4-e233-4ab2-e76a-9346e0ae8ef9",
        "colab": {
          "base_uri": "https://localhost:8080/",
          "height": 34
        }
      },
      "source": [
        "a = 7\n",
        "b = 5.847\n",
        "c = 7+9j\n",
        "d = 4+7j\n",
        "print(type(a),type(b),type(c),type(d))"
      ],
      "execution_count": 0,
      "outputs": [
        {
          "output_type": "stream",
          "text": [
            "<class 'int'> <class 'float'> <class 'complex'> <class 'complex'>\n"
          ],
          "name": "stdout"
        }
      ]
    },
    {
      "cell_type": "markdown",
      "metadata": {
        "id": "KZgLJ-MdObNA",
        "colab_type": "text"
      },
      "source": [
        "###fundamental Datatype\n",
        "\n",
        "1. Intger type -- any no.without decimal\n",
        "2. Float type -- any no. with decimal\n",
        "3. Complex -- ex: a+jb\n",
        "4. Boolean type -- ex: True or False\n",
        "5. Strings -- group of characters\n"
      ]
    },
    {
      "cell_type": "code",
      "metadata": {
        "id": "5Gp-_46iTyn9",
        "colab_type": "code",
        "outputId": "abecf420-3a20-4e52-ad85-5f00294b7302",
        "colab": {
          "base_uri": "https://localhost:8080/",
          "height": 34
        }
      },
      "source": [
        "print(c)"
      ],
      "execution_count": 0,
      "outputs": [
        {
          "output_type": "stream",
          "text": [
            "(7+9j)\n"
          ],
          "name": "stdout"
        }
      ]
    },
    {
      "cell_type": "code",
      "metadata": {
        "id": "JKb2cW51UDU7",
        "colab_type": "code",
        "outputId": "da168e0e-cde2-4050-b472-8df8057ef9d4",
        "colab": {
          "base_uri": "https://localhost:8080/",
          "height": 34
        }
      },
      "source": [
        "+d"
      ],
      "execution_count": 0,
      "outputs": [
        {
          "output_type": "execute_result",
          "data": {
            "text/plain": [
              "(4+7j)"
            ]
          },
          "metadata": {
            "tags": []
          },
          "execution_count": 22
        }
      ]
    },
    {
      "cell_type": "code",
      "metadata": {
        "id": "DeGfbcdFUDsQ",
        "colab_type": "code",
        "outputId": "c3e3b877-5194-41c8-d76e-1cadf1f45e62",
        "colab": {
          "base_uri": "https://localhost:8080/",
          "height": 34
        }
      },
      "source": [
        "print(c+d)"
      ],
      "execution_count": 0,
      "outputs": [
        {
          "output_type": "stream",
          "text": [
            "(11+16j)\n"
          ],
          "name": "stdout"
        }
      ]
    },
    {
      "cell_type": "code",
      "metadata": {
        "id": "-8usylLGUHCh",
        "colab_type": "code",
        "outputId": "f61a4ca2-f6c0-4f21-ef5f-5d94440a0b5e",
        "colab": {
          "base_uri": "https://localhost:8080/",
          "height": 34
        }
      },
      "source": [
        "str1 = \"GITAM\"\n",
        "str2 = ' UNIVERSITY'\n",
        "str1+str2"
      ],
      "execution_count": 0,
      "outputs": [
        {
          "output_type": "execute_result",
          "data": {
            "text/plain": [
              "'GITAM UNIVERSITY'"
            ]
          },
          "metadata": {
            "tags": []
          },
          "execution_count": 28
        }
      ]
    },
    {
      "cell_type": "code",
      "metadata": {
        "id": "s0rF2xBuVT1S",
        "colab_type": "code",
        "outputId": "44258069-eca1-4ea8-dbb5-064488d3cec0",
        "colab": {
          "base_uri": "https://localhost:8080/",
          "height": 34
        }
      },
      "source": [
        "len(str1)"
      ],
      "execution_count": 0,
      "outputs": [
        {
          "output_type": "execute_result",
          "data": {
            "text/plain": [
              "5"
            ]
          },
          "metadata": {
            "tags": []
          },
          "execution_count": 26
        }
      ]
    },
    {
      "cell_type": "code",
      "metadata": {
        "id": "VLGCUt0MV2Sp",
        "colab_type": "code",
        "outputId": "7b4c8fad-d3a6-4aa7-c75c-3c4859d47589",
        "colab": {
          "base_uri": "https://localhost:8080/",
          "height": 34
        }
      },
      "source": [
        "len(str2)"
      ],
      "execution_count": 0,
      "outputs": [
        {
          "output_type": "execute_result",
          "data": {
            "text/plain": [
              "11"
            ]
          },
          "metadata": {
            "tags": []
          },
          "execution_count": 29
        }
      ]
    },
    {
      "cell_type": "code",
      "metadata": {
        "id": "B6opK-xMV43a",
        "colab_type": "code",
        "outputId": "346831c8-395d-42d5-967e-a3fdac8abb4a",
        "colab": {
          "base_uri": "https://localhost:8080/",
          "height": 34
        }
      },
      "source": [
        "a = 3876563924768747554554854\n",
        "print(len(str(a)))"
      ],
      "execution_count": 0,
      "outputs": [
        {
          "output_type": "stream",
          "text": [
            "25\n"
          ],
          "name": "stdout"
        }
      ]
    },
    {
      "cell_type": "code",
      "metadata": {
        "id": "XIyjTliZWyQg",
        "colab_type": "code",
        "outputId": "5a3bfab7-c6fc-4c73-b414-31959e4e0438",
        "colab": {
          "base_uri": "https://localhost:8080/",
          "height": 34
        }
      },
      "source": [
        "result = 10<20\n",
        "print(result,type(result))"
      ],
      "execution_count": 0,
      "outputs": [
        {
          "output_type": "stream",
          "text": [
            "True <class 'bool'>\n"
          ],
          "name": "stdout"
        }
      ]
    },
    {
      "cell_type": "markdown",
      "metadata": {
        "id": "MXxdDA-jYlw2",
        "colab_type": "text"
      },
      "source": [
        "## Operators\n",
        "{unary(a++):not present in phyton)\n",
        "\n",
        "1. Binary\n",
        "2. Ternary"
      ]
    },
    {
      "cell_type": "markdown",
      "metadata": {
        "id": "9cScNTfCapBS",
        "colab_type": "text"
      },
      "source": [
        "1. Arithmetic Operations: +,-,*,/,%,etc......\n",
        "2. Logical Operators:and gate,or gate,not gate,etc....\n",
        "3. Relational Operators: ==,!=,>,<,>=,<=\n",
        "4. Membership Operators:(checking the character is in the input) in,not in"
      ]
    },
    {
      "cell_type": "code",
      "metadata": {
        "id": "jSglYNzSa9Jr",
        "colab_type": "code",
        "outputId": "35190fb0-8757-49dd-d165-0d717ce8cb64",
        "colab": {
          "base_uri": "https://localhost:8080/",
          "height": 136
        }
      },
      "source": [
        "a=77\n",
        "b=7\n",
        "print(a+b)\n",
        "print(a-b)\n",
        "print(a*b)\n",
        "print(a/b)\n",
        "print(a%b)\n",
        "print(a**b)\n",
        "print(a//b)"
      ],
      "execution_count": 0,
      "outputs": [
        {
          "output_type": "stream",
          "text": [
            "84\n",
            "70\n",
            "539\n",
            "11.0\n",
            "0\n",
            "16048523266853\n",
            "11\n"
          ],
          "name": "stdout"
        }
      ]
    },
    {
      "cell_type": "code",
      "metadata": {
        "id": "6N4kIG6rdr2B",
        "colab_type": "code",
        "outputId": "b4aba93e-3593-4be7-a4e9-939449ba62c9",
        "colab": {
          "base_uri": "https://localhost:8080/",
          "height": 68
        }
      },
      "source": [
        "# Logical Operators\n",
        "i=12\n",
        "j=7\n",
        "print(i>1 and i<20)\n",
        "print(i>10 or i<45)\n",
        "print(not i)"
      ],
      "execution_count": 0,
      "outputs": [
        {
          "output_type": "stream",
          "text": [
            "True\n",
            "True\n",
            "False\n"
          ],
          "name": "stdout"
        }
      ]
    },
    {
      "cell_type": "code",
      "metadata": {
        "id": "0kJsI-CeePzB",
        "colab_type": "code",
        "outputId": "196d2fbb-296f-4a11-b1b7-3ee7b6b953e2",
        "colab": {
          "base_uri": "https://localhost:8080/",
          "height": 119
        }
      },
      "source": [
        "#Relational Operators\n",
        "print(i==j)\n",
        "print(i!=j)\n",
        "print(i>j)\n",
        "print(i<j)\n",
        "print(i>=j)\n",
        "print(i<=j)"
      ],
      "execution_count": 0,
      "outputs": [
        {
          "output_type": "stream",
          "text": [
            "False\n",
            "True\n",
            "True\n",
            "False\n",
            "True\n",
            "False\n"
          ],
          "name": "stdout"
        }
      ]
    },
    {
      "cell_type": "code",
      "metadata": {
        "id": "GzfN-wC9gZKF",
        "colab_type": "code",
        "outputId": "e90299e7-5005-4264-96e7-ad4c2e362fa4",
        "colab": {
          "base_uri": "https://localhost:8080/",
          "height": 68
        }
      },
      "source": [
        "#Membership operator\n",
        "str1 = 'GITAM'\n",
        "print('A' in str1)\n",
        "print('z' in str1)\n",
        "print('Z' not in str1)"
      ],
      "execution_count": 0,
      "outputs": [
        {
          "output_type": "stream",
          "text": [
            "True\n",
            "False\n",
            "True\n"
          ],
          "name": "stdout"
        }
      ]
    },
    {
      "cell_type": "markdown",
      "metadata": {
        "id": "T04LAlqFibEB",
        "colab_type": "text"
      },
      "source": [
        "## Conditional Statements\n",
        "\n",
        "1. if\n",
        "2. else\n",
        "3. elif"
      ]
    },
    {
      "cell_type": "code",
      "metadata": {
        "id": "xgDbOSTRilaT",
        "colab_type": "code",
        "colab": {}
      },
      "source": [
        "# syntax:\n",
        "if condition:\n",
        "  statements\n",
        "  else:\n",
        "    statements"
      ],
      "execution_count": 0,
      "outputs": []
    },
    {
      "cell_type": "code",
      "metadata": {
        "id": "bZL2UgxTjCph",
        "colab_type": "code",
        "outputId": "46f5a0b8-4323-4347-a4dd-500120544aae",
        "colab": {
          "base_uri": "https://localhost:8080/",
          "height": 51
        }
      },
      "source": [
        "# to check given number is even or odd\n",
        "n = int(input(\"enter any number\"))\n",
        "if n%2==0:\n",
        "  print('even')\n",
        "else:\n",
        "  print('odd')\n",
        "\n"
      ],
      "execution_count": 0,
      "outputs": [
        {
          "output_type": "stream",
          "text": [
            "enter any number67\n",
            "odd\n"
          ],
          "name": "stdout"
        }
      ]
    },
    {
      "cell_type": "code",
      "metadata": {
        "id": "yoTfEC-XlUN4",
        "colab_type": "code",
        "colab": {}
      },
      "source": [
        ""
      ],
      "execution_count": 0,
      "outputs": []
    }
  ]
}